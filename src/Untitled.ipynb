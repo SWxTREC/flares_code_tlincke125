{
 "cells": [
  {
   "cell_type": "code",
   "execution_count": 1,
   "id": "1c101359-bebc-4b64-85ec-1547eb9d6b69",
   "metadata": {},
   "outputs": [],
   "source": [
    "from flares.active_region import ActiveRegion\n",
    "from flares.data import get_dates\n",
    "root = \"/srv/data/thli2739\""
   ]
  },
  {
   "cell_type": "code",
   "execution_count": 2,
   "id": "01247428-77d2-4879-95ad-d71e30631a53",
   "metadata": {},
   "outputs": [],
   "source": [
    "dates = list(get_dates(7115, root, sort = True))\n",
    "ar = ActiveRegion(7115, dates[200], root)"
   ]
  },
  {
   "cell_type": "code",
   "execution_count": null,
   "id": "f37728d6-38b6-4473-9161-6556fc05ff24",
   "metadata": {},
   "outputs": [
    {
     "name": "stdout",
     "output_type": "stream",
     "text": [
      "0\n"
     ]
    },
    {
     "name": "stderr",
     "output_type": "stream",
     "text": [
      "/srv/data/thli2739/flares_code_tlincke125/src/flares/active_region.py:79: UserWarning: Hnum 7115 date 2017-08-28 09:00:00 is 58.2053960755814% nan, skipping\n",
      "  warnings.warn(f\"Hnum {hnum} date {date} is {percent_nan*100}% nan, skipping\")\n"
     ]
    },
    {
     "name": "stdout",
     "output_type": "stream",
     "text": [
      "0\n"
     ]
    },
    {
     "name": "stderr",
     "output_type": "stream",
     "text": [
      "/srv/data/thli2739/flares_code_tlincke125/src/flares/active_region.py:79: UserWarning: Hnum 7115 date 2017-08-28 10:00:00 is 55.452203592192696% nan, skipping\n",
      "  warnings.warn(f\"Hnum {hnum} date {date} is {percent_nan*100}% nan, skipping\")\n"
     ]
    },
    {
     "name": "stdout",
     "output_type": "stream",
     "text": [
      "0\n"
     ]
    },
    {
     "name": "stderr",
     "output_type": "stream",
     "text": [
      "/srv/data/thli2739/flares_code_tlincke125/src/flares/active_region.py:79: UserWarning: Hnum 7115 date 2017-08-28 11:00:00 is 52.6921978820598% nan, skipping\n",
      "  warnings.warn(f\"Hnum {hnum} date {date} is {percent_nan*100}% nan, skipping\")\n"
     ]
    },
    {
     "name": "stdout",
     "output_type": "stream",
     "text": [
      "0\n"
     ]
    },
    {
     "name": "stderr",
     "output_type": "stream",
     "text": [
      "/srv/data/thli2739/flares_code_tlincke125/src/flares/active_region.py:79: UserWarning: Hnum 7115 date 2017-08-28 12:00:00 is 50.057425768272424% nan, skipping\n",
      "  warnings.warn(f\"Hnum {hnum} date {date} is {percent_nan*100}% nan, skipping\")\n"
     ]
    },
    {
     "name": "stdout",
     "output_type": "stream",
     "text": [
      "0\n"
     ]
    },
    {
     "name": "stderr",
     "output_type": "stream",
     "text": [
      "/srv/data/thli2739/flares_code_tlincke125/src/flares/active_region.py:79: UserWarning: Hnum 7115 date 2017-08-28 13:00:00 is 47.37593438538206% nan, skipping\n",
      "  warnings.warn(f\"Hnum {hnum} date {date} is {percent_nan*100}% nan, skipping\")\n"
     ]
    },
    {
     "name": "stdout",
     "output_type": "stream",
     "text": [
      "0\n"
     ]
    },
    {
     "name": "stderr",
     "output_type": "stream",
     "text": [
      "/srv/data/thli2739/flares_code_tlincke125/src/flares/active_region.py:79: UserWarning: Hnum 7115 date 2017-08-28 14:00:00 is 44.560125103820596% nan, skipping\n",
      "  warnings.warn(f\"Hnum {hnum} date {date} is {percent_nan*100}% nan, skipping\")\n"
     ]
    },
    {
     "name": "stdout",
     "output_type": "stream",
     "text": [
      "0\n"
     ]
    },
    {
     "name": "stderr",
     "output_type": "stream",
     "text": [
      "/srv/data/thli2739/flares_code_tlincke125/src/flares/active_region.py:79: UserWarning: Hnum 7115 date 2017-08-28 15:00:00 is 42.007760589701% nan, skipping\n",
      "  warnings.warn(f\"Hnum {hnum} date {date} is {percent_nan*100}% nan, skipping\")\n"
     ]
    },
    {
     "name": "stdout",
     "output_type": "stream",
     "text": [
      "0\n"
     ]
    },
    {
     "name": "stderr",
     "output_type": "stream",
     "text": [
      "/srv/data/thli2739/flares_code_tlincke125/src/flares/active_region.py:79: UserWarning: Hnum 7115 date 2017-08-28 16:00:00 is 39.24937707641196% nan, skipping\n",
      "  warnings.warn(f\"Hnum {hnum} date {date} is {percent_nan*100}% nan, skipping\")\n"
     ]
    },
    {
     "name": "stdout",
     "output_type": "stream",
     "text": [
      "0\n"
     ]
    },
    {
     "name": "stderr",
     "output_type": "stream",
     "text": [
      "/srv/data/thli2739/flares_code_tlincke125/src/flares/active_region.py:79: UserWarning: Hnum 7115 date 2017-08-28 17:00:00 is 36.60844061461794% nan, skipping\n",
      "  warnings.warn(f\"Hnum {hnum} date {date} is {percent_nan*100}% nan, skipping\")\n"
     ]
    },
    {
     "name": "stdout",
     "output_type": "stream",
     "text": [
      "0\n"
     ]
    },
    {
     "name": "stderr",
     "output_type": "stream",
     "text": [
      "/srv/data/thli2739/flares_code_tlincke125/src/flares/active_region.py:79: UserWarning: Hnum 7115 date 2017-08-28 18:00:00 is 33.90261627906977% nan, skipping\n",
      "  warnings.warn(f\"Hnum {hnum} date {date} is {percent_nan*100}% nan, skipping\")\n"
     ]
    },
    {
     "name": "stdout",
     "output_type": "stream",
     "text": [
      "0\n"
     ]
    },
    {
     "name": "stderr",
     "output_type": "stream",
     "text": [
      "/srv/data/thli2739/flares_code_tlincke125/src/flares/active_region.py:79: UserWarning: Hnum 7115 date 2017-08-28 19:00:00 is 31.167916839701% nan, skipping\n",
      "  warnings.warn(f\"Hnum {hnum} date {date} is {percent_nan*100}% nan, skipping\")\n"
     ]
    },
    {
     "name": "stdout",
     "output_type": "stream",
     "text": [
      "0\n"
     ]
    },
    {
     "name": "stderr",
     "output_type": "stream",
     "text": [
      "/srv/data/thli2739/flares_code_tlincke125/src/flares/active_region.py:79: UserWarning: Hnum 7115 date 2017-08-28 20:00:00 is 28.420239825581394% nan, skipping\n",
      "  warnings.warn(f\"Hnum {hnum} date {date} is {percent_nan*100}% nan, skipping\")\n"
     ]
    },
    {
     "name": "stdout",
     "output_type": "stream",
     "text": [
      "0\n"
     ]
    },
    {
     "name": "stderr",
     "output_type": "stream",
     "text": [
      "/srv/data/thli2739/flares_code_tlincke125/src/flares/active_region.py:79: UserWarning: Hnum 7115 date 2017-08-28 21:00:00 is 25.74588610880399% nan, skipping\n",
      "  warnings.warn(f\"Hnum {hnum} date {date} is {percent_nan*100}% nan, skipping\")\n"
     ]
    },
    {
     "name": "stdout",
     "output_type": "stream",
     "text": [
      "0\n"
     ]
    },
    {
     "name": "stderr",
     "output_type": "stream",
     "text": [
      "/srv/data/thli2739/flares_code_tlincke125/src/flares/active_region.py:79: UserWarning: Hnum 7115 date 2017-08-28 22:00:00 is 23.175352990033225% nan, skipping\n",
      "  warnings.warn(f\"Hnum {hnum} date {date} is {percent_nan*100}% nan, skipping\")\n"
     ]
    },
    {
     "name": "stdout",
     "output_type": "stream",
     "text": [
      "0\n"
     ]
    },
    {
     "name": "stderr",
     "output_type": "stream",
     "text": [
      "/srv/data/thli2739/flares_code_tlincke125/src/flares/active_region.py:79: UserWarning: Hnum 7115 date 2017-08-28 23:00:00 is 20.28719372923588% nan, skipping\n",
      "  warnings.warn(f\"Hnum {hnum} date {date} is {percent_nan*100}% nan, skipping\")\n"
     ]
    },
    {
     "name": "stdout",
     "output_type": "stream",
     "text": [
      "0\n"
     ]
    },
    {
     "name": "stderr",
     "output_type": "stream",
     "text": [
      "/srv/data/thli2739/flares_code_tlincke125/src/flares/active_region.py:79: UserWarning: Hnum 7115 date 2017-08-29 00:00:00 is 17.593698089700997% nan, skipping\n",
      "  warnings.warn(f\"Hnum {hnum} date {date} is {percent_nan*100}% nan, skipping\")\n"
     ]
    },
    {
     "name": "stdout",
     "output_type": "stream",
     "text": [
      "0\n"
     ]
    },
    {
     "name": "stderr",
     "output_type": "stream",
     "text": [
      "/srv/data/thli2739/flares_code_tlincke125/src/flares/active_region.py:79: UserWarning: Hnum 7115 date 2017-08-29 01:00:00 is 14.892091465946844% nan, skipping\n",
      "  warnings.warn(f\"Hnum {hnum} date {date} is {percent_nan*100}% nan, skipping\")\n"
     ]
    },
    {
     "name": "stdout",
     "output_type": "stream",
     "text": [
      "0\n"
     ]
    },
    {
     "name": "stderr",
     "output_type": "stream",
     "text": [
      "/srv/data/thli2739/flares_code_tlincke125/src/flares/active_region.py:79: UserWarning: Hnum 7115 date 2017-08-29 02:00:00 is 12.176533949335548% nan, skipping\n",
      "  warnings.warn(f\"Hnum {hnum} date {date} is {percent_nan*100}% nan, skipping\")\n"
     ]
    },
    {
     "name": "stdout",
     "output_type": "stream",
     "text": [
      "0\n"
     ]
    },
    {
     "name": "stderr",
     "output_type": "stream",
     "text": [
      "/srv/data/thli2739/flares_code_tlincke125/src/flares/active_region.py:79: UserWarning: Hnum 7115 date 2017-08-29 03:00:00 is 9.499584717607974% nan, skipping\n",
      "  warnings.warn(f\"Hnum {hnum} date {date} is {percent_nan*100}% nan, skipping\")\n"
     ]
    },
    {
     "name": "stdout",
     "output_type": "stream",
     "text": [
      "0\n"
     ]
    },
    {
     "name": "stderr",
     "output_type": "stream",
     "text": [
      "/srv/data/thli2739/flares_code_tlincke125/src/flares/active_region.py:79: UserWarning: Hnum 7115 date 2017-08-29 04:00:00 is 6.75482765780731% nan, skipping\n",
      "  warnings.warn(f\"Hnum {hnum} date {date} is {percent_nan*100}% nan, skipping\")\n"
     ]
    },
    {
     "name": "stdout",
     "output_type": "stream",
     "text": [
      "0\n"
     ]
    },
    {
     "name": "stderr",
     "output_type": "stream",
     "text": [
      "/srv/data/thli2739/flares_code_tlincke125/src/flares/active_region.py:79: UserWarning: Hnum 7115 date 2017-08-29 05:00:00 is 4.341323193521595% nan, skipping\n",
      "  warnings.warn(f\"Hnum {hnum} date {date} is {percent_nan*100}% nan, skipping\")\n"
     ]
    },
    {
     "name": "stdout",
     "output_type": "stream",
     "text": [
      "0\n"
     ]
    },
    {
     "name": "stderr",
     "output_type": "stream",
     "text": [
      "/srv/data/thli2739/flares_code_tlincke125/src/flares/active_region.py:79: UserWarning: Hnum 7115 date 2017-08-29 06:00:00 is 2.357376453488372% nan, skipping\n",
      "  warnings.warn(f\"Hnum {hnum} date {date} is {percent_nan*100}% nan, skipping\")\n"
     ]
    },
    {
     "name": "stdout",
     "output_type": "stream",
     "text": [
      "0\n"
     ]
    },
    {
     "name": "stderr",
     "output_type": "stream",
     "text": [
      "/srv/data/thli2739/flares_code_tlincke125/src/flares/active_region.py:79: UserWarning: Hnum 7115 date 2017-08-29 09:00:00 is 0.0012977574750830565% nan, skipping\n",
      "  warnings.warn(f\"Hnum {hnum} date {date} is {percent_nan*100}% nan, skipping\")\n"
     ]
    },
    {
     "name": "stdout",
     "output_type": "stream",
     "text": [
      "0\n",
      "1\n",
      "2\n",
      "3\n",
      "4\n",
      "5\n",
      "6\n",
      "7\n",
      "8\n",
      "9\n",
      "10\n",
      "11\n",
      "12\n",
      "13\n",
      "14\n",
      "15\n",
      "16\n",
      "17\n",
      "18\n",
      "19\n",
      "20\n"
     ]
    },
    {
     "name": "stderr",
     "output_type": "stream",
     "text": [
      "/tmp/ipykernel_813139/3147055027.py:10: RuntimeWarning: More than 20 figures have been opened. Figures created through the pyplot interface (`matplotlib.pyplot.figure`) are retained until explicitly closed and may consume too much memory. (To control this warning, see the rcParam `figure.max_open_warning`).\n",
      "  fig, axs = plt.subplots(4, 2)\n"
     ]
    },
    {
     "name": "stdout",
     "output_type": "stream",
     "text": [
      "21\n",
      "22\n",
      "23\n",
      "24\n",
      "25\n",
      "26\n",
      "27\n",
      "28\n",
      "29\n",
      "30\n",
      "31\n",
      "32\n",
      "33\n",
      "34\n",
      "35\n",
      "36\n",
      "37\n",
      "38\n",
      "39\n",
      "40\n",
      "41\n",
      "42\n",
      "43\n",
      "44\n",
      "45\n",
      "46\n",
      "47\n",
      "48\n",
      "49\n",
      "50\n",
      "51\n",
      "52\n",
      "53\n",
      "54\n",
      "55\n",
      "56\n",
      "57\n",
      "58\n",
      "59\n",
      "60\n",
      "61\n",
      "62\n",
      "63\n",
      "64\n",
      "65\n",
      "66\n",
      "67\n",
      "68\n",
      "69\n",
      "70\n",
      "71\n",
      "72\n",
      "73\n",
      "74\n",
      "75\n",
      "76\n",
      "77\n",
      "78\n",
      "79\n",
      "80\n",
      "81\n",
      "82\n",
      "83\n",
      "84\n",
      "85\n",
      "86\n",
      "87\n",
      "88\n",
      "89\n",
      "90\n",
      "91\n",
      "92\n",
      "93\n",
      "94\n",
      "95\n",
      "96\n",
      "97\n",
      "98\n",
      "99\n",
      "100\n",
      "101\n",
      "102\n",
      "103\n",
      "104\n",
      "105\n",
      "106\n",
      "107\n",
      "108\n",
      "109\n",
      "110\n",
      "111\n",
      "112\n",
      "113\n",
      "114\n",
      "115\n",
      "116\n",
      "117\n",
      "118\n",
      "119\n",
      "120\n",
      "121\n",
      "122\n",
      "123\n",
      "124\n",
      "125\n",
      "126\n",
      "127\n",
      "128\n",
      "129\n",
      "130\n",
      "131\n",
      "132\n",
      "133\n",
      "134\n",
      "135\n",
      "136\n",
      "137\n",
      "138\n",
      "139\n",
      "140\n",
      "141\n",
      "142\n",
      "143\n",
      "144\n",
      "145\n",
      "146\n",
      "147\n",
      "148\n",
      "149\n",
      "150\n",
      "151\n",
      "152\n",
      "153\n",
      "154\n",
      "155\n",
      "156\n",
      "157\n",
      "158\n",
      "159\n",
      "160\n",
      "161\n",
      "162\n",
      "163\n",
      "164\n",
      "165\n",
      "166\n",
      "167\n",
      "168\n",
      "169\n",
      "170\n",
      "171\n"
     ]
    }
   ],
   "source": [
    "import matplotlib.pyplot as plt\n",
    "\n",
    "dates = list(get_dates(7115, root, sort = True))\n",
    "\n",
    "i = 0\n",
    "for date in dates:\n",
    "    print(i)\n",
    "    ar = ActiveRegion(7115, date, root)\n",
    "    if ar.valid:\n",
    "        fig, axs = plt.subplots(4, 2)\n",
    "        fig.set_figheight(20)\n",
    "        fig.set_figwidth(20)\n",
    "        ar.draw(axs)\n",
    "        plt.savefig(\"./frames/\" + str(i) + \".png\")\n",
    "        i += 1"
   ]
  },
  {
   "cell_type": "code",
   "execution_count": null,
   "id": "7a1000a5-08a2-48a8-b74e-7b83ca86c875",
   "metadata": {},
   "outputs": [],
   "source": []
  }
 ],
 "metadata": {
  "kernelspec": {
   "display_name": "venv",
   "language": "python",
   "name": "venv"
  },
  "language_info": {
   "codemirror_mode": {
    "name": "ipython",
    "version": 3
   },
   "file_extension": ".py",
   "mimetype": "text/x-python",
   "name": "python",
   "nbconvert_exporter": "python",
   "pygments_lexer": "ipython3",
   "version": "3.8.10"
  }
 },
 "nbformat": 4,
 "nbformat_minor": 5
}
