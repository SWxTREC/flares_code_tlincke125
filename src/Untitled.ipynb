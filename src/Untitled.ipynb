{
 "cells": [
  {
   "cell_type": "code",
   "execution_count": 1,
   "id": "1c101359-bebc-4b64-85ec-1547eb9d6b69",
   "metadata": {},
   "outputs": [],
   "source": [
    "from flares.ARDataSet import ARDataSet\n",
    "\n",
    "hnum = 7115\n",
    "root = \"../docs/example_data/raw\""
   ]
  },
  {
   "cell_type": "code",
   "execution_count": 2,
   "id": "01247428-77d2-4879-95ad-d71e30631a53",
   "metadata": {},
   "outputs": [],
   "source": [
    "ds = ARDataSet(hnum, root)"
   ]
  },
  {
   "cell_type": "code",
   "execution_count": 3,
   "id": "f37728d6-38b6-4473-9161-6556fc05ff24",
   "metadata": {},
   "outputs": [
    {
     "data": {
      "text/plain": [
       "0   2017-09-01 22:00:00\n",
       "0   2017-09-06 12:00:00\n",
       "Name: date, dtype: datetime64[ns]"
      ]
     },
     "execution_count": 3,
     "metadata": {},
     "output_type": "execute_result"
    }
   ],
   "source": [
    "ds.segmented[\"date\"]"
   ]
  },
  {
   "cell_type": "code",
   "execution_count": null,
   "id": "7a1000a5-08a2-48a8-b74e-7b83ca86c875",
   "metadata": {},
   "outputs": [],
   "source": []
  }
 ],
 "metadata": {
  "kernelspec": {
   "display_name": "Python 3 (ipykernel)",
   "language": "python",
   "name": "python3"
  },
  "language_info": {
   "codemirror_mode": {
    "name": "ipython",
    "version": 3
   },
   "file_extension": ".py",
   "mimetype": "text/x-python",
   "name": "python",
   "nbconvert_exporter": "python",
   "pygments_lexer": "ipython3",
   "version": "3.8.10"
  }
 },
 "nbformat": 4,
 "nbformat_minor": 5
}
