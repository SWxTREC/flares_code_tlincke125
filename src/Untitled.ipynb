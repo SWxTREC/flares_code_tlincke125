{
 "cells": [
  {
   "cell_type": "code",
   "execution_count": 3,
   "id": "1c101359-bebc-4b64-85ec-1547eb9d6b69",
   "metadata": {},
   "outputs": [
    {
     "name": "stdout",
     "output_type": "stream",
     "text": [
      "291\n"
     ]
    }
   ],
   "source": [
    "from flares.ARDataSet import ARDataSet\n",
    "from flares.data import get_dates\n",
    "\n",
    "hnum = 7115\n",
    "root = \"/srv/data/thli2739\"\n",
    "\n",
    "dates = get_dates(hnum, root)\n",
    "print(len(dates))"
   ]
  },
  {
   "cell_type": "code",
   "execution_count": 4,
   "id": "01247428-77d2-4879-95ad-d71e30631a53",
   "metadata": {},
   "outputs": [
    {
     "name": "stdout",
     "output_type": "stream",
     "text": [
      "Working on 7115, 2017-08-28 09:00:00\n"
     ]
    },
    {
     "name": "stderr",
     "output_type": "stream",
     "text": [
      "/srv/data/thli2739/flares_code_tlincke125/src/flares/active_region.py:74: UserWarning: Hnum 7115 date 2017-08-28 09:00:00 has a nan, skipping\n",
      "  warnings.warn(f\"Hnum {hnum} date {date} has a nan, skipping\")\n"
     ]
    },
    {
     "name": "stdout",
     "output_type": "stream",
     "text": [
      "skipping: 2017-08-28 09:00:00\n",
      "Working on 7115, 2017-08-28 10:00:00\n"
     ]
    },
    {
     "name": "stderr",
     "output_type": "stream",
     "text": [
      "/srv/data/thli2739/flares_code_tlincke125/src/flares/active_region.py:74: UserWarning: Hnum 7115 date 2017-08-28 10:00:00 has a nan, skipping\n",
      "  warnings.warn(f\"Hnum {hnum} date {date} has a nan, skipping\")\n"
     ]
    },
    {
     "name": "stdout",
     "output_type": "stream",
     "text": [
      "skipping: 2017-08-28 10:00:00\n",
      "Working on 7115, 2017-08-28 11:00:00\n"
     ]
    },
    {
     "name": "stderr",
     "output_type": "stream",
     "text": [
      "/srv/data/thli2739/flares_code_tlincke125/src/flares/active_region.py:74: UserWarning: Hnum 7115 date 2017-08-28 11:00:00 has a nan, skipping\n",
      "  warnings.warn(f\"Hnum {hnum} date {date} has a nan, skipping\")\n"
     ]
    },
    {
     "name": "stdout",
     "output_type": "stream",
     "text": [
      "skipping: 2017-08-28 11:00:00\n",
      "Working on 7115, 2017-08-28 12:00:00\n"
     ]
    },
    {
     "name": "stderr",
     "output_type": "stream",
     "text": [
      "/srv/data/thli2739/flares_code_tlincke125/src/flares/active_region.py:74: UserWarning: Hnum 7115 date 2017-08-28 12:00:00 has a nan, skipping\n",
      "  warnings.warn(f\"Hnum {hnum} date {date} has a nan, skipping\")\n"
     ]
    },
    {
     "name": "stdout",
     "output_type": "stream",
     "text": [
      "skipping: 2017-08-28 12:00:00\n",
      "Working on 7115, 2017-08-28 13:00:00\n"
     ]
    },
    {
     "name": "stderr",
     "output_type": "stream",
     "text": [
      "/srv/data/thli2739/flares_code_tlincke125/src/flares/active_region.py:74: UserWarning: Hnum 7115 date 2017-08-28 13:00:00 has a nan, skipping\n",
      "  warnings.warn(f\"Hnum {hnum} date {date} has a nan, skipping\")\n"
     ]
    },
    {
     "name": "stdout",
     "output_type": "stream",
     "text": [
      "skipping: 2017-08-28 13:00:00\n",
      "Working on 7115, 2017-08-28 14:00:00\n"
     ]
    },
    {
     "name": "stderr",
     "output_type": "stream",
     "text": [
      "/srv/data/thli2739/flares_code_tlincke125/src/flares/active_region.py:74: UserWarning: Hnum 7115 date 2017-08-28 14:00:00 has a nan, skipping\n",
      "  warnings.warn(f\"Hnum {hnum} date {date} has a nan, skipping\")\n"
     ]
    },
    {
     "name": "stdout",
     "output_type": "stream",
     "text": [
      "skipping: 2017-08-28 14:00:00\n",
      "Working on 7115, 2017-08-28 15:00:00\n"
     ]
    },
    {
     "name": "stderr",
     "output_type": "stream",
     "text": [
      "/srv/data/thli2739/flares_code_tlincke125/src/flares/active_region.py:74: UserWarning: Hnum 7115 date 2017-08-28 15:00:00 has a nan, skipping\n",
      "  warnings.warn(f\"Hnum {hnum} date {date} has a nan, skipping\")\n"
     ]
    },
    {
     "name": "stdout",
     "output_type": "stream",
     "text": [
      "skipping: 2017-08-28 15:00:00\n",
      "Working on 7115, 2017-08-28 16:00:00\n"
     ]
    },
    {
     "name": "stderr",
     "output_type": "stream",
     "text": [
      "/srv/data/thli2739/flares_code_tlincke125/src/flares/active_region.py:74: UserWarning: Hnum 7115 date 2017-08-28 16:00:00 has a nan, skipping\n",
      "  warnings.warn(f\"Hnum {hnum} date {date} has a nan, skipping\")\n"
     ]
    },
    {
     "name": "stdout",
     "output_type": "stream",
     "text": [
      "skipping: 2017-08-28 16:00:00\n",
      "Working on 7115, 2017-08-28 17:00:00\n"
     ]
    },
    {
     "name": "stderr",
     "output_type": "stream",
     "text": [
      "/srv/data/thli2739/flares_code_tlincke125/src/flares/active_region.py:74: UserWarning: Hnum 7115 date 2017-08-28 17:00:00 has a nan, skipping\n",
      "  warnings.warn(f\"Hnum {hnum} date {date} has a nan, skipping\")\n"
     ]
    },
    {
     "name": "stdout",
     "output_type": "stream",
     "text": [
      "skipping: 2017-08-28 17:00:00\n",
      "Working on 7115, 2017-08-28 18:00:00\n"
     ]
    },
    {
     "name": "stderr",
     "output_type": "stream",
     "text": [
      "/srv/data/thli2739/flares_code_tlincke125/src/flares/active_region.py:74: UserWarning: Hnum 7115 date 2017-08-28 18:00:00 has a nan, skipping\n",
      "  warnings.warn(f\"Hnum {hnum} date {date} has a nan, skipping\")\n"
     ]
    },
    {
     "name": "stdout",
     "output_type": "stream",
     "text": [
      "skipping: 2017-08-28 18:00:00\n",
      "Working on 7115, 2017-08-28 19:00:00\n"
     ]
    },
    {
     "name": "stderr",
     "output_type": "stream",
     "text": [
      "/srv/data/thli2739/flares_code_tlincke125/src/flares/active_region.py:74: UserWarning: Hnum 7115 date 2017-08-28 19:00:00 has a nan, skipping\n",
      "  warnings.warn(f\"Hnum {hnum} date {date} has a nan, skipping\")\n"
     ]
    },
    {
     "name": "stdout",
     "output_type": "stream",
     "text": [
      "skipping: 2017-08-28 19:00:00\n",
      "Working on 7115, 2017-08-28 20:00:00\n"
     ]
    },
    {
     "name": "stderr",
     "output_type": "stream",
     "text": [
      "/srv/data/thli2739/flares_code_tlincke125/src/flares/active_region.py:74: UserWarning: Hnum 7115 date 2017-08-28 20:00:00 has a nan, skipping\n",
      "  warnings.warn(f\"Hnum {hnum} date {date} has a nan, skipping\")\n"
     ]
    },
    {
     "name": "stdout",
     "output_type": "stream",
     "text": [
      "skipping: 2017-08-28 20:00:00\n",
      "Working on 7115, 2017-08-28 21:00:00\n"
     ]
    },
    {
     "name": "stderr",
     "output_type": "stream",
     "text": [
      "/srv/data/thli2739/flares_code_tlincke125/src/flares/active_region.py:74: UserWarning: Hnum 7115 date 2017-08-28 21:00:00 has a nan, skipping\n",
      "  warnings.warn(f\"Hnum {hnum} date {date} has a nan, skipping\")\n"
     ]
    },
    {
     "name": "stdout",
     "output_type": "stream",
     "text": [
      "skipping: 2017-08-28 21:00:00\n",
      "Working on 7115, 2017-08-28 22:00:00\n"
     ]
    },
    {
     "name": "stderr",
     "output_type": "stream",
     "text": [
      "/srv/data/thli2739/flares_code_tlincke125/src/flares/active_region.py:74: UserWarning: Hnum 7115 date 2017-08-28 22:00:00 has a nan, skipping\n",
      "  warnings.warn(f\"Hnum {hnum} date {date} has a nan, skipping\")\n"
     ]
    },
    {
     "name": "stdout",
     "output_type": "stream",
     "text": [
      "skipping: 2017-08-28 22:00:00\n",
      "Working on 7115, 2017-08-28 23:00:00\n"
     ]
    },
    {
     "name": "stderr",
     "output_type": "stream",
     "text": [
      "/srv/data/thli2739/flares_code_tlincke125/src/flares/active_region.py:74: UserWarning: Hnum 7115 date 2017-08-28 23:00:00 has a nan, skipping\n",
      "  warnings.warn(f\"Hnum {hnum} date {date} has a nan, skipping\")\n"
     ]
    },
    {
     "name": "stdout",
     "output_type": "stream",
     "text": [
      "skipping: 2017-08-28 23:00:00\n",
      "Working on 7115, 2017-08-29 00:00:00\n"
     ]
    },
    {
     "name": "stderr",
     "output_type": "stream",
     "text": [
      "/srv/data/thli2739/flares_code_tlincke125/src/flares/active_region.py:74: UserWarning: Hnum 7115 date 2017-08-29 00:00:00 has a nan, skipping\n",
      "  warnings.warn(f\"Hnum {hnum} date {date} has a nan, skipping\")\n"
     ]
    },
    {
     "name": "stdout",
     "output_type": "stream",
     "text": [
      "skipping: 2017-08-29 00:00:00\n",
      "Working on 7115, 2017-08-29 01:00:00\n"
     ]
    },
    {
     "name": "stderr",
     "output_type": "stream",
     "text": [
      "/srv/data/thli2739/flares_code_tlincke125/src/flares/active_region.py:74: UserWarning: Hnum 7115 date 2017-08-29 01:00:00 has a nan, skipping\n",
      "  warnings.warn(f\"Hnum {hnum} date {date} has a nan, skipping\")\n"
     ]
    },
    {
     "name": "stdout",
     "output_type": "stream",
     "text": [
      "skipping: 2017-08-29 01:00:00\n",
      "Working on 7115, 2017-08-29 02:00:00\n"
     ]
    },
    {
     "name": "stderr",
     "output_type": "stream",
     "text": [
      "/srv/data/thli2739/flares_code_tlincke125/src/flares/active_region.py:74: UserWarning: Hnum 7115 date 2017-08-29 02:00:00 has a nan, skipping\n",
      "  warnings.warn(f\"Hnum {hnum} date {date} has a nan, skipping\")\n"
     ]
    },
    {
     "name": "stdout",
     "output_type": "stream",
     "text": [
      "skipping: 2017-08-29 02:00:00\n",
      "Working on 7115, 2017-08-29 03:00:00\n"
     ]
    },
    {
     "name": "stderr",
     "output_type": "stream",
     "text": [
      "/srv/data/thli2739/flares_code_tlincke125/src/flares/active_region.py:74: UserWarning: Hnum 7115 date 2017-08-29 03:00:00 has a nan, skipping\n",
      "  warnings.warn(f\"Hnum {hnum} date {date} has a nan, skipping\")\n"
     ]
    },
    {
     "name": "stdout",
     "output_type": "stream",
     "text": [
      "skipping: 2017-08-29 03:00:00\n",
      "Working on 7115, 2017-08-29 04:00:00\n"
     ]
    },
    {
     "name": "stderr",
     "output_type": "stream",
     "text": [
      "/srv/data/thli2739/flares_code_tlincke125/src/flares/active_region.py:74: UserWarning: Hnum 7115 date 2017-08-29 04:00:00 has a nan, skipping\n",
      "  warnings.warn(f\"Hnum {hnum} date {date} has a nan, skipping\")\n"
     ]
    },
    {
     "name": "stdout",
     "output_type": "stream",
     "text": [
      "skipping: 2017-08-29 04:00:00\n",
      "Working on 7115, 2017-08-29 05:00:00\n"
     ]
    },
    {
     "name": "stderr",
     "output_type": "stream",
     "text": [
      "/srv/data/thli2739/flares_code_tlincke125/src/flares/active_region.py:74: UserWarning: Hnum 7115 date 2017-08-29 05:00:00 has a nan, skipping\n",
      "  warnings.warn(f\"Hnum {hnum} date {date} has a nan, skipping\")\n"
     ]
    },
    {
     "name": "stdout",
     "output_type": "stream",
     "text": [
      "skipping: 2017-08-29 05:00:00\n",
      "Working on 7115, 2017-08-29 06:00:00\n"
     ]
    },
    {
     "name": "stderr",
     "output_type": "stream",
     "text": [
      "/srv/data/thli2739/flares_code_tlincke125/src/flares/active_region.py:74: UserWarning: Hnum 7115 date 2017-08-29 06:00:00 has a nan, skipping\n",
      "  warnings.warn(f\"Hnum {hnum} date {date} has a nan, skipping\")\n"
     ]
    },
    {
     "name": "stdout",
     "output_type": "stream",
     "text": [
      "skipping: 2017-08-29 06:00:00\n",
      "Working on 7115, 2017-08-29 09:00:00\n"
     ]
    },
    {
     "name": "stderr",
     "output_type": "stream",
     "text": [
      "/srv/data/thli2739/flares_code_tlincke125/src/flares/active_region.py:74: UserWarning: Hnum 7115 date 2017-08-29 09:00:00 has a nan, skipping\n",
      "  warnings.warn(f\"Hnum {hnum} date {date} has a nan, skipping\")\n"
     ]
    },
    {
     "name": "stdout",
     "output_type": "stream",
     "text": [
      "skipping: 2017-08-29 09:00:00\n",
      "Working on 7115, 2017-08-29 10:00:00\n"
     ]
    },
    {
     "ename": "KeyboardInterrupt",
     "evalue": "",
     "output_type": "error",
     "traceback": [
      "\u001b[0;31m---------------------------------------------------------------------------\u001b[0m",
      "\u001b[0;31mKeyboardInterrupt\u001b[0m                         Traceback (most recent call last)",
      "Input \u001b[0;32mIn [4]\u001b[0m, in \u001b[0;36m<module>\u001b[0;34m\u001b[0m\n\u001b[0;32m----> 1\u001b[0m ds \u001b[38;5;241m=\u001b[39m \u001b[43mARDataSet\u001b[49m\u001b[43m(\u001b[49m\u001b[43mhnum\u001b[49m\u001b[43m,\u001b[49m\u001b[43m \u001b[49m\u001b[43mroot\u001b[49m\u001b[43m,\u001b[49m\u001b[43m \u001b[49m\u001b[43mverbose\u001b[49m\u001b[43m \u001b[49m\u001b[38;5;241;43m=\u001b[39;49m\u001b[43m \u001b[49m\u001b[38;5;28;43;01mTrue\u001b[39;49;00m\u001b[43m)\u001b[49m\n",
      "File \u001b[0;32m/srv/data/thli2739/flares_code_tlincke125/src/flares/ARDataSet.py:35\u001b[0m, in \u001b[0;36mARDataSet.__init__\u001b[0;34m(self, hnum, root, dates, verbose)\u001b[0m\n\u001b[1;32m     31\u001b[0m         \u001b[38;5;28mprint\u001b[39m(\u001b[38;5;124mf\u001b[39m\u001b[38;5;124m\"\u001b[39m\u001b[38;5;124mskipping: \u001b[39m\u001b[38;5;132;01m{\u001b[39;00mdate\u001b[38;5;132;01m}\u001b[39;00m\u001b[38;5;124m\"\u001b[39m)\n\u001b[1;32m     32\u001b[0m     \u001b[38;5;28;01mcontinue\u001b[39;00m\n\u001b[0;32m---> 35\u001b[0m \u001b[38;5;28mself\u001b[39m\u001b[38;5;241m.\u001b[39msegmented \u001b[38;5;241m=\u001b[39m pd\u001b[38;5;241m.\u001b[39mconcat([\u001b[38;5;28mself\u001b[39m\u001b[38;5;241m.\u001b[39msegmented, pd\u001b[38;5;241m.\u001b[39mDataFrame(\u001b[43mar\u001b[49m\u001b[38;5;241;43m.\u001b[39;49m\u001b[43msegmented_dataset\u001b[49m, index\u001b[38;5;241m=\u001b[39m[date])])\n\u001b[1;32m     36\u001b[0m \u001b[38;5;28mself\u001b[39m\u001b[38;5;241m.\u001b[39mbaseline \u001b[38;5;241m=\u001b[39m pd\u001b[38;5;241m.\u001b[39mconcat([\u001b[38;5;28mself\u001b[39m\u001b[38;5;241m.\u001b[39mbaseline, pd\u001b[38;5;241m.\u001b[39mDataFrame(ar\u001b[38;5;241m.\u001b[39mbaseline_dataset, index\u001b[38;5;241m=\u001b[39m[date])])\n\u001b[1;32m     37\u001b[0m \u001b[38;5;28mself\u001b[39m\u001b[38;5;241m.\u001b[39msharps \u001b[38;5;241m=\u001b[39m pd\u001b[38;5;241m.\u001b[39mconcat([\u001b[38;5;28mself\u001b[39m\u001b[38;5;241m.\u001b[39msharps, pd\u001b[38;5;241m.\u001b[39mDataFrame(ar\u001b[38;5;241m.\u001b[39msharps_dataset, index\u001b[38;5;241m=\u001b[39m[date])])\n",
      "File \u001b[0;32m/srv/data/thli2739/flares_code_tlincke125/src/flares/active_region.py:112\u001b[0m, in \u001b[0;36mActiveRegion.segmented_dataset\u001b[0;34m(self)\u001b[0m\n\u001b[1;32m    110\u001b[0m \u001b[38;5;28;01mif\u001b[39;00m \u001b[38;5;28mself\u001b[39m\u001b[38;5;241m.\u001b[39m__segmented \u001b[38;5;129;01mis\u001b[39;00m \u001b[38;5;28;01mNone\u001b[39;00m:\n\u001b[1;32m    111\u001b[0m     \u001b[38;5;28mself\u001b[39m\u001b[38;5;241m.\u001b[39m__segmented \u001b[38;5;241m=\u001b[39m \u001b[38;5;28mdict\u001b[39m()\n\u001b[0;32m--> 112\u001b[0m     \u001b[38;5;28mself\u001b[39m\u001b[38;5;241m.\u001b[39m__segmented\u001b[38;5;241m.\u001b[39mupdate(\u001b[38;5;28;43mself\u001b[39;49m\u001b[38;5;241;43m.\u001b[39;49m\u001b[43mphysical_features\u001b[49m\u001b[43m(\u001b[49m\u001b[38;5;28;43mself\u001b[39;49m\u001b[38;5;241;43m.\u001b[39;49m\u001b[43mnl_mask\u001b[49m\u001b[43m,\u001b[49m\u001b[43m \u001b[49m\u001b[38;5;124;43m\"\u001b[39;49m\u001b[38;5;124;43mnl_\u001b[39;49m\u001b[38;5;124;43m\"\u001b[39;49m\u001b[43m)\u001b[49m)\n\u001b[1;32m    113\u001b[0m     \u001b[38;5;28mself\u001b[39m\u001b[38;5;241m.\u001b[39m__segmented\u001b[38;5;241m.\u001b[39mupdate(\u001b[38;5;28mself\u001b[39m\u001b[38;5;241m.\u001b[39mphysical_features(\u001b[38;5;28mself\u001b[39m\u001b[38;5;241m.\u001b[39mumbra_mask, \u001b[38;5;124m\"\u001b[39m\u001b[38;5;124mumbra_\u001b[39m\u001b[38;5;124m\"\u001b[39m))\n\u001b[1;32m    114\u001b[0m     \u001b[38;5;28mself\u001b[39m\u001b[38;5;241m.\u001b[39m__segmented\u001b[38;5;241m.\u001b[39mupdate(\u001b[38;5;28mself\u001b[39m\u001b[38;5;241m.\u001b[39mphysical_features(\u001b[38;5;28mself\u001b[39m\u001b[38;5;241m.\u001b[39mpenumbra_mask, \u001b[38;5;124m\"\u001b[39m\u001b[38;5;124mpenumbra_\u001b[39m\u001b[38;5;124m\"\u001b[39m))\n",
      "File \u001b[0;32m/srv/data/thli2739/flares_code_tlincke125/src/flares/active_region_parameters.py:51\u001b[0m, in \u001b[0;36mActiveRegionParameters.physical_features\u001b[0;34m(self, mask, labels_prefix)\u001b[0m\n\u001b[1;32m     49\u001b[0m     v \u001b[38;5;241m=\u001b[39m \u001b[38;5;241m0.0\u001b[39m\n\u001b[1;32m     50\u001b[0m \u001b[38;5;28;01melse\u001b[39;00m:\n\u001b[0;32m---> 51\u001b[0m     value \u001b[38;5;241m=\u001b[39m \u001b[43mfunc\u001b[49m\u001b[43m(\u001b[49m\u001b[43mmask\u001b[49m\u001b[43m)\u001b[49m\n\u001b[1;32m     52\u001b[0m     v \u001b[38;5;241m=\u001b[39m \u001b[38;5;28mfloat\u001b[39m(value)\n\u001b[1;32m     53\u001b[0m     \u001b[38;5;28;01mif\u001b[39;00m np\u001b[38;5;241m.\u001b[39misnan(v):\n",
      "File \u001b[0;32m/srv/data/thli2739/flares_code_tlincke125/src/flares/active_region_parameters.py:263\u001b[0m, in \u001b[0;36mActiveRegionParameters.totrho\u001b[0;34m(self, mask)\u001b[0m\n\u001b[1;32m    246\u001b[0m \u001b[38;5;28;01mdef\u001b[39;00m \u001b[38;5;21mtotrho\u001b[39m(\u001b[38;5;28mself\u001b[39m, mask):\n\u001b[1;32m    247\u001b[0m     \u001b[38;5;124;03m\"\"\"Total photospheric excess magnetic energy\u001b[39;00m\n\u001b[1;32m    248\u001b[0m \n\u001b[1;32m    249\u001b[0m \u001b[38;5;124;03m    Parameterization scalars come from\u001b[39;00m\n\u001b[0;32m   (...)\u001b[0m\n\u001b[1;32m    261\u001b[0m \u001b[38;5;124;03m        parameter label, $$\\\\sum_{p\\\\in p_e)pdA$$\u001b[39;00m\n\u001b[1;32m    262\u001b[0m \u001b[38;5;124;03m    \"\"\"\u001b[39;00m\n\u001b[0;32m--> 263\u001b[0m     \u001b[38;5;28;01mreturn\u001b[39;00m np\u001b[38;5;241m.\u001b[39msum(\u001b[38;5;28;43mself\u001b[39;49m\u001b[38;5;241;43m.\u001b[39;49m\u001b[43mrho\u001b[49m[mask])\n",
      "File \u001b[0;32m/srv/data/thli2739/flares_code_tlincke125/src/flares/active_region_derived_fields.py:306\u001b[0m, in \u001b[0;36mActiveRegionDerivedFields.rho\u001b[0;34m(self)\u001b[0m\n\u001b[1;32m    301\u001b[0m \u001b[38;5;124;03m\"\"\"Excess magnetic energy density\u001b[39;00m\n\u001b[1;32m    302\u001b[0m \n\u001b[1;32m    303\u001b[0m \u001b[38;5;124;03m$$\\\\rho_e = norm(B_p - B_o)$$\u001b[39;00m\n\u001b[1;32m    304\u001b[0m \u001b[38;5;124;03m\"\"\"\u001b[39;00m\n\u001b[1;32m    305\u001b[0m \u001b[38;5;28;01mif\u001b[39;00m \u001b[38;5;28mself\u001b[39m\u001b[38;5;241m.\u001b[39m__rho \u001b[38;5;129;01mis\u001b[39;00m \u001b[38;5;28;01mNone\u001b[39;00m:\n\u001b[0;32m--> 306\u001b[0m     \u001b[38;5;28mself\u001b[39m\u001b[38;5;241m.\u001b[39m__rho \u001b[38;5;241m=\u001b[39m (\u001b[38;5;28mself\u001b[39m\u001b[38;5;241m.\u001b[39mB \u001b[38;5;241m-\u001b[39m \u001b[38;5;28mself\u001b[39m\u001b[38;5;241m.\u001b[39mnorm((\u001b[38;5;28;43mself\u001b[39;49m\u001b[38;5;241;43m.\u001b[39;49m\u001b[43mBpx\u001b[49m, \u001b[38;5;28mself\u001b[39m\u001b[38;5;241m.\u001b[39mBpy, \u001b[38;5;28mself\u001b[39m\u001b[38;5;241m.\u001b[39mBpz)))\u001b[38;5;241m*\u001b[39m\u001b[38;5;241m*\u001b[39m\u001b[38;5;241m2\u001b[39m \u001b[38;5;241m/\u001b[39m (\u001b[38;5;241m8\u001b[39m\u001b[38;5;241m*\u001b[39mnp\u001b[38;5;241m.\u001b[39mpi)\n\u001b[1;32m    307\u001b[0m \u001b[38;5;28;01mreturn\u001b[39;00m \u001b[38;5;28mself\u001b[39m\u001b[38;5;241m.\u001b[39m__rho\n",
      "File \u001b[0;32m/srv/data/thli2739/flares_code_tlincke125/src/flares/active_region_derived_fields.py:312\u001b[0m, in \u001b[0;36mActiveRegionDerivedFields.Bpx\u001b[0;34m(self)\u001b[0m\n\u001b[1;32m    309\u001b[0m \u001b[38;5;129m@property\u001b[39m\n\u001b[1;32m    310\u001b[0m \u001b[38;5;28;01mdef\u001b[39;00m \u001b[38;5;21mBpx\u001b[39m(\u001b[38;5;28mself\u001b[39m):\n\u001b[1;32m    311\u001b[0m     \u001b[38;5;28;01mif\u001b[39;00m \u001b[38;5;28mself\u001b[39m\u001b[38;5;241m.\u001b[39m__Bpx \u001b[38;5;129;01mis\u001b[39;00m \u001b[38;5;28;01mNone\u001b[39;00m:\n\u001b[0;32m--> 312\u001b[0m         \u001b[38;5;28;43mself\u001b[39;49m\u001b[38;5;241;43m.\u001b[39;49m\u001b[43mgreenpot\u001b[49m\u001b[43m(\u001b[49m\u001b[43m)\u001b[49m\n\u001b[1;32m    313\u001b[0m     \u001b[38;5;28;01mreturn\u001b[39;00m \u001b[38;5;28mself\u001b[39m\u001b[38;5;241m.\u001b[39m__Bpx\n",
      "File \u001b[0;32m/srv/data/thli2739/flares_code_tlincke125/src/flares/active_region_derived_fields.py:377\u001b[0m, in \u001b[0;36mActiveRegionDerivedFields.greenpot\u001b[0;34m(self)\u001b[0m\n\u001b[1;32m    374\u001b[0m Gn \u001b[38;5;241m=\u001b[39m dist_kern\u001b[38;5;241m.\u001b[39mto(gpu_dev)\n\u001b[1;32m    376\u001b[0m \u001b[38;5;66;03m# Convolution -- integrate over each pixel\u001b[39;00m\n\u001b[0;32m--> 377\u001b[0m pot \u001b[38;5;241m=\u001b[39m \u001b[43mF\u001b[49m\u001b[38;5;241;43m.\u001b[39;49m\u001b[43mconv2d\u001b[49m\u001b[43m(\u001b[49m\u001b[43mBz\u001b[49m\u001b[43m[\u001b[49m\u001b[38;5;28;43;01mNone\u001b[39;49;00m\u001b[43m,\u001b[49m\u001b[43m \u001b[49m\u001b[38;5;28;43;01mNone\u001b[39;49;00m\u001b[43m,\u001b[49m\u001b[43m \u001b[49m\u001b[38;5;241;43m.\u001b[39;49m\u001b[38;5;241;43m.\u001b[39;49m\u001b[38;5;241;43m.\u001b[39;49m\u001b[43m]\u001b[49m\u001b[43m,\u001b[49m\u001b[43m \u001b[49m\u001b[43mGn\u001b[49m\u001b[43m[\u001b[49m\u001b[38;5;28;43;01mNone\u001b[39;49;00m\u001b[43m,\u001b[49m\u001b[43m \u001b[49m\u001b[38;5;28;43;01mNone\u001b[39;49;00m\u001b[43m,\u001b[49m\u001b[43m \u001b[49m\u001b[38;5;241;43m.\u001b[39;49m\u001b[38;5;241;43m.\u001b[39;49m\u001b[38;5;241;43m.\u001b[39;49m\u001b[43m]\u001b[49m\u001b[43m)\u001b[49m[\u001b[38;5;241m0\u001b[39m][\u001b[38;5;241m0\u001b[39m]\u001b[38;5;241m.\u001b[39mcpu()\u001b[38;5;241m.\u001b[39mnumpy()\n\u001b[1;32m    381\u001b[0m \u001b[38;5;66;03m# Save potential\u001b[39;00m\n\u001b[1;32m    382\u001b[0m \u001b[38;5;28mself\u001b[39m\u001b[38;5;241m.\u001b[39m__potential \u001b[38;5;241m=\u001b[39m pot\n",
      "\u001b[0;31mKeyboardInterrupt\u001b[0m: "
     ]
    }
   ],
   "source": [
    "ds = ARDataSet(hnum, root, verbose = True)"
   ]
  },
  {
   "cell_type": "code",
   "execution_count": 3,
   "id": "f37728d6-38b6-4473-9161-6556fc05ff24",
   "metadata": {},
   "outputs": [
    {
     "data": {
      "text/plain": [
       "0   2017-09-01 22:00:00\n",
       "0   2017-09-06 12:00:00\n",
       "Name: date, dtype: datetime64[ns]"
      ]
     },
     "execution_count": 3,
     "metadata": {},
     "output_type": "execute_result"
    }
   ],
   "source": [
    "ds.segmented[\"date\"]"
   ]
  },
  {
   "cell_type": "code",
   "execution_count": null,
   "id": "7a1000a5-08a2-48a8-b74e-7b83ca86c875",
   "metadata": {},
   "outputs": [],
   "source": []
  }
 ],
 "metadata": {
  "kernelspec": {
   "display_name": "venv",
   "language": "python",
   "name": "venv"
  },
  "language_info": {
   "codemirror_mode": {
    "name": "ipython",
    "version": 3
   },
   "file_extension": ".py",
   "mimetype": "text/x-python",
   "name": "python",
   "nbconvert_exporter": "python",
   "pygments_lexer": "ipython3",
   "version": "3.8.10"
  }
 },
 "nbformat": 4,
 "nbformat_minor": 5
}
